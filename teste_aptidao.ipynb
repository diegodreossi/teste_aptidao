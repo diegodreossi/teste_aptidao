{
  "nbformat": 4,
  "nbformat_minor": 0,
  "metadata": {
    "colab": {
      "name": "teste_aptidao.ipynb",
      "provenance": []
    },
    "kernelspec": {
      "name": "python3",
      "display_name": "Python 3"
    },
    "language_info": {
      "name": "python"
    }
  },
  "cells": [
    {
      "cell_type": "markdown",
      "source": [
        "Exercicio 1: Observe o trecho de código abaixo:\n",
        "\n",
        "int INDICE = 13, SOMA = 0, K = 0;\n",
        "\n",
        "enquanto K < INDICE faça\n",
        "\n",
        "{\n",
        "\n",
        "K = K + 1;\n",
        "\n",
        "SOMA = SOMA + K;\n",
        "\n",
        "}\n",
        "\n",
        "imprimir(SOMA);\n",
        "\n",
        "\n",
        "\n",
        "Ao final do processamento, qual será o valor da variável SOMA?"
      ],
      "metadata": {
        "id": "_XC3GmcIbB-x"
      }
    },
    {
      "cell_type": "code",
      "execution_count": null,
      "metadata": {
        "id": "YgeN8gpwaifw"
      },
      "outputs": [],
      "source": [
        "INDICE = 13\n",
        "SOMA = K = 0\n",
        "\n",
        "while K < INDICE:\n",
        "   K= K + 1\n",
        "   SOMA = SOMA + K\n",
        "\n",
        "print(SOMA)   "
      ]
    },
    {
      "cell_type": "markdown",
      "source": [
        "Resposta = 91"
      ],
      "metadata": {
        "id": "1eBdzEKQbzdo"
      }
    },
    {
      "cell_type": "markdown",
      "source": [
        "Exercicio 2: Dado a sequência de Fibonacci, onde se inicia por 0 e 1 e o próximo valor sempre será a soma dos 2 valores anteriores (exemplo: 0, 1, 1, 2, 3, 5, 8, 13, 21, 34...), escreva um programa na linguagem que desejar onde, informado um número, ele calcule a sequência de Fibonacci e retorne uma mensagem avisando se o número informado pertence ou não a sequência.\n",
        "\n",
        "\n",
        "\n",
        "IMPORTANTE:\n",
        "\n",
        "Esse número pode ser informado através de qualquer entrada de sua preferência ou pode ser previamente definido no código;\n"
      ],
      "metadata": {
        "id": "Y-7ye-rScMRQ"
      }
    },
    {
      "cell_type": "code",
      "source": [
        "def fibonacci(tam):\n",
        "   inic = [0,1]\n",
        "   if tam == 1:\n",
        "      return 0\n",
        "   elif tam == 2:\n",
        "      return inic\n",
        "   else:\n",
        "       x = 0\n",
        "       for i in range(tam + 1):\n",
        "          el = inic[x] +inic[x+1]\n",
        "          inic.append(el)\n",
        "          x =  x + 1  \n",
        "\n",
        "       return inic     \n",
        "def leiaInt(msg):\n",
        "   \"\"\"\n",
        "   -> Função para converter uma entrada de um usuário em um valor\n",
        "      inteiro. Caso o usuário digite um valor que não pode ser         \n",
        "      convertido em inteiro o programa não aceita e permanece até      \n",
        "      um valor inteiro ser escrito.\n",
        "   :param msg: Mensagem que irá aparecer quando for solicitada a\n",
        "               entrada do dado para o usuário.\n",
        "   :return: Número inteiro escrito pelo usuário.               \n",
        "   \"\"\"\n",
        "   while True:\n",
        "      try: \n",
        "         n = int (input(msg))\n",
        "      except (ValueError,TypeError):\n",
        "            print('\\033[1;31mErro! Digite um número inteiro válido.\\033[')  \n",
        "            continue\n",
        "        \n",
        "      except KeyboardInterrupt:\n",
        "            print('\\033[1;31mPrograma interrompido.\\033[')\n",
        "            return 0\n",
        "                  \n",
        "      else:\n",
        "           return n \n",
        "\n",
        "nsf = leiaInt('Quantos numeros a sequencia Fibonacci terá?: ')\n",
        "# Numeros sequencia fibonacci\n",
        "num = leiaInt('Qual numero verificar?: ')\n",
        "if num in fibonacci(nsf):\n",
        "   print(f'Numero {num} está na sequencia.')\n",
        "else:\n",
        "   print(f'Numero {num} não está na sequencia.')   \n"
      ],
      "metadata": {
        "colab": {
          "base_uri": "https://localhost:8080/"
        },
        "id": "2u1SSrUMcO56",
        "outputId": "b476c4f5-c99c-4e87-ec8f-554fe7a16bc6"
      },
      "execution_count": 9,
      "outputs": [
        {
          "output_type": "stream",
          "name": "stdout",
          "text": [
            "Quantos numeros a sequencia Fibonacci terá?: 3\n",
            "Qual numero verificar?: r\n",
            "\u001b[1;31mErro! Digite um número inteiro válido.\u001b[\n",
            "Qual numero verificar?: 1\n",
            "Numero 1 está na sequencia.\n"
          ]
        }
      ]
    },
    {
      "cell_type": "markdown",
      "source": [
        "Exercicio 3:\n",
        "Descubra a lógica e complete o próximo elemento:\n",
        "\n",
        "\n",
        "\n",
        "a) 1, 3, 5, 7, ___\n",
        "\n",
        "b) 2, 4, 8, 16, 32, 64, ____\n",
        "\n",
        "c) 0, 1, 4, 9, 16, 25, 36, ____\n",
        "\n",
        "d) 4, 16, 36, 64, ____\n",
        "\n",
        "e) 1, 1, 2, 3, 5, 8, ____\n",
        "\n",
        "f) 2,10, 12, 16, 17, 18, 19, ____ \n"
      ],
      "metadata": {
        "id": "fd_3ionxjW6G"
      }
    },
    {
      "cell_type": "markdown",
      "source": [
        "Resposta: 9, 128, 49,100, 13, 200"
      ],
      "metadata": {
        "id": "rqxaJBqHmEGG"
      }
    },
    {
      "cell_type": "markdown",
      "source": [
        "Exercicio 4 - Dois veículos (um carro e um caminhão) saem respectivamente de cidades opostas pela mesma rodovia. O carro de Ribeirão Preto em direção a Franca, a uma velocidade constante de 110 km/h e o caminhão de Franca em direção a Ribeirão Preto a uma velocidade constante de 80 km/h. Quando eles se cruzarem na rodovia, qual estará mais próximo a cidade de Ribeirão Preto?\n",
        "\n",
        "\n",
        "\n",
        "IMPORTANTE:\n",
        "\n",
        "a) Considerar a distância de 100km entre a cidade de Ribeirão Preto <-> Franca.\n",
        "\n",
        "b) Considerar 2 pedágios como obstáculo e que o caminhão leva 5 minutos a mais para passar em cada um deles e o carro possui tag de pedágio (Sem Parar)\n",
        "\n",
        "c) Explique como chegou no resultado."
      ],
      "metadata": {
        "id": "xIgtiTOgmGIN"
      }
    },
    {
      "cell_type": "code",
      "source": [
        "def distancias(vcar,vcam):\n",
        "    rpf = 100000 # Metros entre RP e Franca\n",
        "    dcar = vcar * 600 #Distanica do carro\n",
        "    # 600 segundos é 10 minutos, tempo\n",
        "    # de vantagem do carro por causa do Sem parar\n",
        "    dcam = 0 #Distancia do caminhão\n",
        "\n",
        "    while True:\n",
        "      dcar = dcar + (vcar * 60)\n",
        "      dcam = dcam + (vcam * 60)\n",
        "\n",
        "      if dcar + dcam >= rpf:\n",
        "         break\n",
        "\n",
        "    return [dcar,dcam]      \n",
        "\n",
        "crms = 110/3.6\n",
        "cmms = 80/3.6\n",
        "\n",
        "#print(distancias(crms,cmms))\n",
        "ms = 100000\n",
        "if abs(ms - distancias(crms,cmms)[0]) < abs(ms - distancias(crms,cmms)[1]) :\n",
        "   print(\"Carro esta mais proximo de RP.\")\n",
        "else:\n",
        "   print(\"Caminhão esta mais proximo de RP\")   \n",
        "\n"
      ],
      "metadata": {
        "colab": {
          "base_uri": "https://localhost:8080/"
        },
        "id": "WG4dY8C4mK1t",
        "outputId": "cc8706c5-caf7-446c-d8a7-ae9d9a022993"
      },
      "execution_count": 13,
      "outputs": [
        {
          "output_type": "stream",
          "name": "stdout",
          "text": [
            "Carro esta mais proximo de RP.\n"
          ]
        }
      ]
    },
    {
      "cell_type": "markdown",
      "source": [
        "- Converti tudo para metros por segundo\n",
        "- Nos calculos envolvendo o tempo eu adaptei os segundos pra minutos\n",
        "- Criei um loop para ir mostrando quantos metros viajadas a cada minuto do carro e caminhão \n",
        "- Se a soma das distancias de ambos fosse igual ou um pouco maior que a distancia total entre RP e Franca quer dizer que veiculos já se encontraram.\n",
        "- Quando veiculos se encontram eu encerro o loop e retorno as distancias percorridas.\n",
        "- Depois eu calculo o valor absoluto das diferenças entre as distancias percorridos e a distancia total.\n",
        "- O carro está mais perto de RP porque a distancia percorrida pelo carro é menor que a distancia restante pro caminhão percorrer."
      ],
      "metadata": {
        "id": "4ToCjS0DtMcM"
      }
    },
    {
      "cell_type": "markdown",
      "source": [
        "Exercicio 5 - Escreva um programa que inverta os caracteres de um string.\n",
        "\n",
        "\n",
        "\n",
        "IMPORTANTE:\n",
        "\n",
        "a) Essa string pode ser informada através de qualquer entrada de sua preferência ou pode ser previamente definida no código;\n",
        "\n",
        "b) Evite usar funções prontas, como, por exemplo, reverse;\n"
      ],
      "metadata": {
        "id": "g_tDruNnuo28"
      }
    },
    {
      "cell_type": "code",
      "source": [
        "string = \"Diego Gonçalves Dreossi\"\n",
        "\n",
        "print(string[::-1])"
      ],
      "metadata": {
        "colab": {
          "base_uri": "https://localhost:8080/"
        },
        "id": "1yQT01HXut7i",
        "outputId": "d77dbc48-a906-4bfa-91e2-3cc0342c9d0a"
      },
      "execution_count": 15,
      "outputs": [
        {
          "output_type": "stream",
          "name": "stdout",
          "text": [
            "issoerD sevlaçnoG ogeiD\n"
          ]
        }
      ]
    }
  ]
}